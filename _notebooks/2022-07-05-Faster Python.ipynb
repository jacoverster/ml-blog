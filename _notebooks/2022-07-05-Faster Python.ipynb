{
 "cells": [
  {
   "cell_type": "markdown",
   "metadata": {},
   "source": [
    "# Faster Python - tips and examples\n",
    "> \"A collection of tips and tricks to speed up your Python code.\"\n",
    "\n",
    "- toc: true\n",
    "- branch: master\n",
    "- badges: true\n",
    "- comments: true\n",
    "- author: Jaco Verster\n",
    "- categories: [python, optimization]"
   ]
  },
  {
   "cell_type": "markdown",
   "metadata": {},
   "source": [
    "Each section includes timed examples sorted from slowest to fastest."
   ]
  },
  {
   "cell_type": "markdown",
   "metadata": {},
   "source": [
    "---\n",
    "## Use pathlib instead of os\n",
    "\n",
    "pathlib was introduced offers a set of abstractions for working with paths and in many cases it's much faster than the os module."
   ]
  },
  {
   "cell_type": "code",
   "execution_count": 148,
   "metadata": {},
   "outputs": [],
   "source": [
    "import pathlib\n",
    "import os\n",
    "\n",
    "directory = \"parent/child/\"\n",
    "new_folder = \"folder\"\n",
    "new_file = \"file.txt\""
   ]
  },
  {
   "cell_type": "markdown",
   "metadata": {},
   "source": [
    "Joining pathname components"
   ]
  },
  {
   "cell_type": "code",
   "execution_count": 149,
   "metadata": {},
   "outputs": [
    {
     "name": "stdout",
     "output_type": "stream",
     "text": [
      "854 ns ± 13.5 ns per loop (mean ± std. dev. of 7 runs, 1,000,000 loops each)\n",
      "7.33 µs ± 198 ns per loop (mean ± std. dev. of 7 runs, 100,000 loops each)\n"
     ]
    }
   ],
   "source": [
    "%timeit os.path.join(directory, new_folder, new_file)\n",
    "%timeit str(pathlib.Path(directory) / new_folder / new_file)"
   ]
  },
  {
   "cell_type": "markdown",
   "metadata": {},
   "source": [
    "Get the current working directory"
   ]
  },
  {
   "cell_type": "code",
   "execution_count": 143,
   "metadata": {},
   "outputs": [
    {
     "name": "stdout",
     "output_type": "stream",
     "text": [
      "410 ns ± 9.45 ns per loop (mean ± std. dev. of 7 runs, 1,000,000 loops each)\n",
      "3.88 µs ± 190 ns per loop (mean ± std. dev. of 7 runs, 100,000 loops each)\n"
     ]
    }
   ],
   "source": [
    "%timeit os.getcwd()\n",
    "%timeit pathlib.Path.cwd()"
   ]
  },
  {
   "cell_type": "markdown",
   "metadata": {},
   "source": [
    "Find the basename for a path"
   ]
  },
  {
   "cell_type": "code",
   "execution_count": 146,
   "metadata": {},
   "outputs": [
    {
     "name": "stdout",
     "output_type": "stream",
     "text": [
      "372 ns ± 7.28 ns per loop (mean ± std. dev. of 7 runs, 1,000,000 loops each)\n",
      "2.6 µs ± 38.2 ns per loop (mean ± std. dev. of 7 runs, 100,000 loops each)\n"
     ]
    }
   ],
   "source": [
    "%timeit os.path.basename(\"/path/file.suffix\")\n",
    "%timeit pathlib.Path(\"/path/file.suffix\").name"
   ]
  },
  {
   "cell_type": "markdown",
   "metadata": {},
   "source": [
    "---\n",
    "## Use NumPy for arrays\n",
    "\n",
    "NumPy has a lot of built int functions that are highly optimized for array operations and usually faster than your own or a Python math implementation."
   ]
  },
  {
   "cell_type": "code",
   "execution_count": 1,
   "metadata": {},
   "outputs": [],
   "source": [
    "import math\n",
    "import numpy as np\n",
    "\n",
    "a = range(10000)"
   ]
  },
  {
   "cell_type": "code",
   "execution_count": 107,
   "metadata": {},
   "outputs": [
    {
     "name": "stdout",
     "output_type": "stream",
     "text": [
      "1.84 ms ± 38.2 µs per loop (mean ± std. dev. of 7 runs, 1,000 loops each)\n",
      "1.08 ms ± 26.2 µs per loop (mean ± std. dev. of 7 runs, 1,000 loops each)\n",
      "583 µs ± 54.4 µs per loop (mean ± std. dev. of 7 runs, 1,000 loops each)\n"
     ]
    }
   ],
   "source": [
    "%timeit [i**2 for i in a]\n",
    "%timeit [math.pow(i, 2) for i in a]\n",
    "%timeit np.square(np.array(a))"
   ]
  },
  {
   "cell_type": "code",
   "execution_count": 108,
   "metadata": {},
   "outputs": [
    {
     "name": "stdout",
     "output_type": "stream",
     "text": [
      "909 µs ± 47.9 µs per loop (mean ± std. dev. of 7 runs, 1,000 loops each)\n",
      "766 µs ± 20.8 µs per loop (mean ± std. dev. of 7 runs, 1,000 loops each)\n",
      "542 µs ± 13.8 µs per loop (mean ± std. dev. of 7 runs, 1,000 loops each)\n"
     ]
    }
   ],
   "source": [
    "%timeit [i**0.5 for i in a]\n",
    "%timeit [math.sqrt(i) for i in a]\n",
    "%timeit np.sqrt(np.array(a))"
   ]
  },
  {
   "cell_type": "markdown",
   "metadata": {},
   "source": [
    "> Note: If you apply a math function using a builtin function like \"map\" it might be even faster than NumPy!"
   ]
  },
  {
   "cell_type": "code",
   "execution_count": 109,
   "metadata": {},
   "outputs": [
    {
     "name": "stdout",
     "output_type": "stream",
     "text": [
      "413 µs ± 7.19 µs per loop (mean ± std. dev. of 7 runs, 1,000 loops each)\n"
     ]
    }
   ],
   "source": [
    "%timeit list(map(math.sqrt, a))"
   ]
  },
  {
   "cell_type": "markdown",
   "metadata": {},
   "source": [
    "---\n",
    "## Use built in functions\n",
    "\n",
    "Built in functions like `map`, `min`, `max`, `all`, etc. is faster than applying a function in a loop and here list comprehension is faster than a loop."
   ]
  },
  {
   "cell_type": "code",
   "execution_count": 118,
   "metadata": {},
   "outputs": [],
   "source": [
    "words = [\"one\", \"two\", \"three\"] * 1000\n",
    "\n",
    "\n",
    "def loop_apply(words):\n",
    "    L = []\n",
    "    for word in words:\n",
    "        L.append(word.upper())\n",
    "\n",
    "\n",
    "def list_comprehension_apply(words):\n",
    "    [i.upper() for i in words]\n",
    "\n",
    "\n",
    "def map_apply(words):\n",
    "    list(map(str.upper, words))"
   ]
  },
  {
   "cell_type": "code",
   "execution_count": 119,
   "metadata": {},
   "outputs": [
    {
     "name": "stdout",
     "output_type": "stream",
     "text": [
      "202 µs ± 15.9 µs per loop (mean ± std. dev. of 7 runs, 10,000 loops each)\n",
      "134 µs ± 1.9 µs per loop (mean ± std. dev. of 7 runs, 10,000 loops each)\n",
      "90.8 µs ± 1.63 µs per loop (mean ± std. dev. of 7 runs, 10,000 loops each)\n"
     ]
    }
   ],
   "source": [
    "%timeit loop_apply(words)\n",
    "%timeit list_comp_apply(words)\n",
    "%timeit map_apply(words)"
   ]
  },
  {
   "cell_type": "markdown",
   "metadata": {},
   "source": [
    "---\n",
    "## Importing libraries\n",
    "\n",
    "Importing a library and then using a sub-functions is usually faster than specific imports, but be careful of larger libraries."
   ]
  },
  {
   "cell_type": "code",
   "execution_count": 121,
   "metadata": {},
   "outputs": [
    {
     "name": "stdout",
     "output_type": "stream",
     "text": [
      "459 ns ± 28.7 ns per loop (mean ± std. dev. of 7 runs, 1,000,000 loops each)\n",
      "127 ns ± 6.92 ns per loop (mean ± std. dev. of 7 runs, 10,000,000 loops each)\n"
     ]
    }
   ],
   "source": [
    "%timeit from math import sqrt; sqrt(50)\n",
    "%timeit import math; math.sqrt(50)"
   ]
  },
  {
   "cell_type": "code",
   "execution_count": 122,
   "metadata": {},
   "outputs": [
    {
     "name": "stdout",
     "output_type": "stream",
     "text": [
      "1.07 µs ± 84.9 ns per loop (mean ± std. dev. of 7 runs, 1,000,000 loops each)\n",
      "732 ns ± 7.72 ns per loop (mean ± std. dev. of 7 runs, 1,000,000 loops each)\n"
     ]
    }
   ],
   "source": [
    "%timeit from numpy import square; square(2)\n",
    "%timeit import numpy; numpy.square(2)"
   ]
  },
  {
   "cell_type": "markdown",
   "metadata": {},
   "source": [
    "> Note: When importing a larger library, like Pandas, gains can be minimal or even slower."
   ]
  },
  {
   "cell_type": "code",
   "execution_count": 125,
   "metadata": {},
   "outputs": [
    {
     "name": "stdout",
     "output_type": "stream",
     "text": [
      "98.7 µs ± 2.19 µs per loop (mean ± std. dev. of 7 runs, 10,000 loops each)\n",
      "101 µs ± 2.06 µs per loop (mean ± std. dev. of 7 runs, 10,000 loops each)\n"
     ]
    }
   ],
   "source": [
    "%timeit import pandas; pandas.DataFrame()\n",
    "%timeit from pandas import DataFrame; DataFrame()"
   ]
  },
  {
   "cell_type": "markdown",
   "metadata": {},
   "source": [
    "---\n",
    "## String formatting\n",
    "\n",
    "F-string formatting is the cleanest, fastest solution."
   ]
  },
  {
   "cell_type": "code",
   "execution_count": 111,
   "metadata": {},
   "outputs": [
    {
     "name": "stdout",
     "output_type": "stream",
     "text": [
      "143 ns ± 1.83 ns per loop (mean ± std. dev. of 7 runs, 10,000,000 loops each)\n",
      "143 ns ± 6.12 ns per loop (mean ± std. dev. of 7 runs, 10,000,000 loops each)\n",
      "98.4 ns ± 8.2 ns per loop (mean ± std. dev. of 7 runs, 10,000,000 loops each)\n",
      "80.4 ns ± 2.36 ns per loop (mean ± std. dev. of 7 runs, 10,000,000 loops each)\n"
     ]
    }
   ],
   "source": [
    "%timeit str(12) + \" is a number\"\n",
    "%timeit \"{} is a number\".format(12)\n",
    "%timeit \"%s is a number\" % (12)\n",
    "%timeit f\"{12} is a number\""
   ]
  },
  {
   "cell_type": "markdown",
   "metadata": {},
   "source": [
    "> Note: %s formatting can be better for readability of longer strings."
   ]
  },
  {
   "cell_type": "code",
   "execution_count": 124,
   "metadata": {},
   "outputs": [],
   "source": [
    "# This reads better:\n",
    "long_string = (\n",
    "    \"This is a slightly longer string that needs %s, %s, %s, and %s in it.\"\n",
    "    % (123, 456, 789, 101112)\n",
    ")"
   ]
  },
  {
   "cell_type": "code",
   "execution_count": null,
   "metadata": {},
   "outputs": [],
   "source": [
    "# Than this:\n",
    "long_string = f\"This is a slightly longer string that needs {123}, {456}, {789}, and {101112} in it.\""
   ]
  },
  {
   "cell_type": "markdown",
   "metadata": {},
   "source": [
    "---\n",
    "## String concatenation\n",
    "\n",
    "Use the `join` method for faster string concatenations."
   ]
  },
  {
   "cell_type": "code",
   "execution_count": 14,
   "metadata": {},
   "outputs": [
    {
     "name": "stdout",
     "output_type": "stream",
     "text": [
      "165 µs ± 5.45 µs per loop (mean ± std. dev. of 7 runs, 1,000 loops each)\n"
     ]
    }
   ],
   "source": [
    "%%timeit\n",
    "output = \"\"\n",
    "for word in words:\n",
    "    output += word"
   ]
  },
  {
   "cell_type": "code",
   "execution_count": 15,
   "metadata": {},
   "outputs": [
    {
     "name": "stdout",
     "output_type": "stream",
     "text": [
      "14.9 µs ± 434 ns per loop (mean ± std. dev. of 7 runs, 100,000 loops each)\n"
     ]
    }
   ],
   "source": [
    "%%timeit\n",
    "output = \"\".join(words)"
   ]
  },
  {
   "cell_type": "markdown",
   "metadata": {},
   "source": [
    "---\n",
    "## Nested iteration\n",
    "\n",
    "`Itertools` is a great option for good readability, but list comprehensions are FAST!"
   ]
  },
  {
   "cell_type": "code",
   "execution_count": 116,
   "metadata": {},
   "outputs": [],
   "source": [
    "import itertools\n",
    "\n",
    "a = range(100)\n",
    "\n",
    "\n",
    "def nested_for_loop(a, b, c):\n",
    "    L = []\n",
    "    for i in a:\n",
    "        for j in b:\n",
    "            for k in c:\n",
    "                L.append((i, j, k))\n",
    "\n",
    "\n",
    "def nested_itertools(a, b, c):\n",
    "    L = []\n",
    "    for p in itertools.product(a, b, c):\n",
    "        L.append(p)\n",
    "\n",
    "\n",
    "def nested_list_comprehension(a, b, c):\n",
    "    L = [(i, j, k) for i in a for j in b for k in c]"
   ]
  },
  {
   "cell_type": "code",
   "execution_count": 117,
   "metadata": {},
   "outputs": [
    {
     "name": "stdout",
     "output_type": "stream",
     "text": [
      "87 ms ± 2.78 ms per loop (mean ± std. dev. of 7 runs, 10 loops each)\n",
      "87.1 ms ± 10.2 ms per loop (mean ± std. dev. of 7 runs, 10 loops each)\n",
      "62 ms ± 939 µs per loop (mean ± std. dev. of 7 runs, 10 loops each)\n"
     ]
    }
   ],
   "source": [
    "%timeit nested_for_loop(a, a, a)\n",
    "%timeit nested_itertools(a, a, a)\n",
    "%timeit nested_list_comprehension(a, a, a)"
   ]
  },
  {
   "cell_type": "markdown",
   "metadata": {},
   "source": [
    "---\n",
    "## Initialization of lists and dictionaries\n",
    "\n",
    "Using `[]` and `{}` to initialize an empty list or dictionary is faster the using the `list()` or `dict()` methods."
   ]
  },
  {
   "cell_type": "code",
   "execution_count": 115,
   "metadata": {},
   "outputs": [
    {
     "name": "stdout",
     "output_type": "stream",
     "text": [
      "57 ns ± 9.35 ns per loop (mean ± std. dev. of 7 runs, 10,000,000 loops each)\n",
      "13.6 ns ± 0.293 ns per loop (mean ± std. dev. of 7 runs, 100,000,000 loops each)\n"
     ]
    }
   ],
   "source": [
    "%timeit list()\n",
    "%timeit []"
   ]
  },
  {
   "cell_type": "code",
   "execution_count": 114,
   "metadata": {},
   "outputs": [
    {
     "name": "stdout",
     "output_type": "stream",
     "text": [
      "70.1 ns ± 1.69 ns per loop (mean ± std. dev. of 7 runs, 10,000,000 loops each)\n",
      "14 ns ± 0.355 ns per loop (mean ± std. dev. of 7 runs, 100,000,000 loops each)\n"
     ]
    }
   ],
   "source": [
    "%timeit dict()\n",
    "%timeit {}"
   ]
  },
  {
   "cell_type": "markdown",
   "metadata": {},
   "source": [
    "---"
   ]
  }
 ],
 "metadata": {
  "kernelspec": {
   "display_name": "Python 3.8.12 ('ml')",
   "language": "python",
   "name": "python3"
  },
  "language_info": {
   "codemirror_mode": {
    "name": "ipython",
    "version": 3
   },
   "file_extension": ".py",
   "mimetype": "text/x-python",
   "name": "python",
   "nbconvert_exporter": "python",
   "pygments_lexer": "ipython3",
   "version": "3.8.12"
  },
  "orig_nbformat": 4,
  "vscode": {
   "interpreter": {
    "hash": "2cb78e02b6e66c5e4f67839fd4978e58d3144e1bb76b1187588b6a599b727db7"
   }
  }
 },
 "nbformat": 4,
 "nbformat_minor": 2
}
