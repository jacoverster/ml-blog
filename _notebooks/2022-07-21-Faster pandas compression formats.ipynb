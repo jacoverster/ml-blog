{
 "cells": [
  {
   "cell_type": "markdown",
   "metadata": {},
   "source": [
    "# Faster pandas - compression format comparison\n",
    "> \"A quick experiment with Pandas' built-in compression formats.\"\n",
    "\n",
    "- toc: false\n",
    "- branch: master\n",
    "- badges: true\n",
    "- comments: true\n",
    "- author: Jaco Verster\n",
    "- categories: [pandas, optimization]"
   ]
  },
  {
   "cell_type": "markdown",
   "metadata": {},
   "source": [
    "### Comparison of different compression formats\n",
    "\n",
    "Pandas offers \"on-the-fly compression of the output data\" as part of to_csv() and according the the latest documentation it supports the following extensions: \".gzip\", \".bz2\", \".zip\" and \".xz\". A quick experiment is done to compare these formats and pick the winner based on compression/decompression times and compression rates.\n",
    "\n",
    "Note: I did not consider different compression levels for each format, but you can also set this."
   ]
  },
  {
   "cell_type": "markdown",
   "metadata": {},
   "source": [
    "> Note: TL;DR \"zip\" has excellent compression rates with the fastest compression and loading times."
   ]
  },
  {
   "cell_type": "markdown",
   "metadata": {},
   "source": [
    "### Generate dummy data\n",
    "\n",
    "Generate dummy data that is roughly 50MB in size and store it in a Pandas DataFrame."
   ]
  },
  {
   "cell_type": "code",
   "execution_count": null,
   "metadata": {},
   "outputs": [],
   "source": [
    "import time\n",
    "\n",
    "import pandas as pd\n",
    "import numpy as np\n",
    "\n",
    "df = pd.DataFrame(np.random.randn(10000, 250))"
   ]
  },
  {
   "cell_type": "markdown",
   "metadata": {},
   "source": [
    "### Compression tests\n",
    "\n",
    "1. Compress the data and record the compression time for each format."
   ]
  },
  {
   "cell_type": "code",
   "execution_count": 2,
   "metadata": {},
   "outputs": [
    {
     "name": "stdout",
     "output_type": "stream",
     "text": [
      "Saved csv in 2.59 seconds.\n",
      "Saved gz in 6.94 seconds.\n",
      "Saved bz2 in 5.67 seconds.\n",
      "Saved zip in 5.3 seconds.\n",
      "Saved xz in 54.73 seconds.\n"
     ]
    }
   ],
   "source": [
    "compression_formats = [\"csv\", \"gz\", \"bz2\", \"zip\", \"xz\"]\n",
    "\n",
    "for fmt in compression_formats:\n",
    "    t1 = time.perf_counter()\n",
    "    df.to_csv(f\"csv.{fmt}\", compression=\"infer\")\n",
    "    print(f\"Saved {fmt} in {round(time.perf_counter()-t1, 2)} seconds.\")"
   ]
  },
  {
   "cell_type": "markdown",
   "metadata": {},
   "source": [
    "2. Compare compressed file sizes using the terminal."
   ]
  },
  {
   "cell_type": "code",
   "execution_count": 3,
   "metadata": {},
   "outputs": [
    {
     "name": "stdout",
     "output_type": "stream",
     "text": [
      "-rw-r--r-- 1 jverster jverster 19M Jul  8 11:09 csv.bz2\n",
      "-rw-r--r-- 1 jverster jverster 47M Jul  8 11:09 csv.csv\n",
      "-rw-r--r-- 1 jverster jverster 22M Jul  8 11:09 csv.gz\n",
      "-rw-r--r-- 1 jverster jverster 21M Jul  8 11:10 csv.xz\n",
      "-rw-r--r-- 1 jverster jverster 22M Jul  8 11:09 csv.zip\n"
     ]
    }
   ],
   "source": [
    "! ls -lh *.{csv,gz,bz2,zip,xz}"
   ]
  },
  {
   "cell_type": "markdown",
   "metadata": {},
   "source": [
    "3. Finally, decompress the data and record decompression times."
   ]
  },
  {
   "cell_type": "code",
   "execution_count": 4,
   "metadata": {},
   "outputs": [
    {
     "name": "stdout",
     "output_type": "stream",
     "text": [
      "Read csv in 0.47 seconds.\n",
      "Read gz in 0.73 seconds.\n",
      "Read bz2 in 2.46 seconds.\n",
      "Read zip in 0.68 seconds.\n",
      "Read xz in 1.47 seconds.\n"
     ]
    }
   ],
   "source": [
    "for fmt in compression_formats:\n",
    "    t1 = time.perf_counter()\n",
    "    pd.read_csv(f\"csv.{fmt}\")\n",
    "    print(f\"Read {fmt} in {round(time.perf_counter()-t1, 2)} seconds.\")"
   ]
  },
  {
   "cell_type": "markdown",
   "metadata": {},
   "source": [
    "### Results summary\n",
    "\n",
    "Top three results for each category are as follows:\n",
    "\n",
    "**Compression time:**\n",
    "1. zip (5.3 seconds)\n",
    "2. bz2 (5.67 seconds)\n",
    "3. gz (6.94 seconds)\n",
    "\n",
    "**Compression rate:**\n",
    "1. bz2 (19 MB)\n",
    "2. xz (21 MB)\n",
    "3. zip and gz (22 MB)\n",
    "\n",
    "**Loading time:**\n",
    "1. zip (0.68 seconds)\n",
    "2. gz (0.73 seconds)\n",
    "3. xz (1.47 seconds)"
   ]
  },
  {
   "cell_type": "markdown",
   "metadata": {},
   "source": [
    "### Conclusion\n",
    "\n",
    "Best overall results:\n",
    "1. \"zip\" has excellent compression rates with the fastest compression and loading times.\n",
    "2. \"gz\" offers similar compression rates to zip but with slower compression times.\n",
    "3. \"bz2\" offer the best compression rates but is slow to load.\n"
   ]
  }
 ],
 "metadata": {
  "kernelspec": {
   "display_name": "Python 3.8.12 ('ml')",
   "language": "python",
   "name": "python3"
  },
  "language_info": {
   "codemirror_mode": {
    "name": "ipython",
    "version": 3
   },
   "file_extension": ".py",
   "mimetype": "text/x-python",
   "name": "python",
   "nbconvert_exporter": "python",
   "pygments_lexer": "ipython3",
   "version": "3.8.12"
  },
  "orig_nbformat": 4,
  "vscode": {
   "interpreter": {
    "hash": "2cb78e02b6e66c5e4f67839fd4978e58d3144e1bb76b1187588b6a599b727db7"
   }
  }
 },
 "nbformat": 4,
 "nbformat_minor": 2
}
