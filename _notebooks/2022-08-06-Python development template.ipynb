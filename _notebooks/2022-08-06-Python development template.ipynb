{
 "cells": [
  {
   "cell_type": "markdown",
   "metadata": {},
   "source": [
    "# My Python development template in 2022\n",
    "> I wish I had this when I started coding! A template for containerized Python development with packaging, CI/CD, code formatting, testing and more.\n",
    "\n",
    "- toc: false\n",
    "- branch: master\n",
    "- badges: true\n",
    "- comments: true\n",
    "- author: Jaco Verster\n",
    "- categories: [Python, Docker, devcontainer]"
   ]
  },
  {
   "cell_type": "markdown",
   "metadata": {},
   "source": [
    "> Note: TL;DR Jump straight to my [Python project template](https://github.com/jacoverster/python-project-template) if you want!"
   ]
  },
  {
   "cell_type": "markdown",
   "metadata": {},
   "source": [
    "# Inspiration\n",
    "\n",
    "I recently came across a great article by Mathspp called [How to create a Python package in 2022](https://mathspp.com/blog/how-to-create-a-python-package-in-2022). It provides a comprehensive guide to creating a Python package and it includes some nice extras like dependency management with [Poetry](https://python-poetry.org/), CI/CD setup, pre-commit hooks, testing with [pytest](https://docs.pytest.org/en/7.1.x/), automation using [tox](https://tox.wiki/en/latest/), etc.\n",
    "\n",
    "The post by Mathspp inspired me to formally document my current setup, firstly to solidify it for myself, but also to share with others. This type of template is something that I wish I had when I started my development journey years ago. \n",
    "\n",
    "A lot of the tools that Mathspp uses aligns with my own current setup but there are also some differences. The main difference in my setup is Docker so let me show you why I like it!"
   ]
  },
  {
   "cell_type": "markdown",
   "metadata": {},
   "source": [
    "# Using Docker\n",
    "I've mainly used [Miniconda](https://docs.conda.io/en/latest/miniconda.html) for package, dependency and environment management in recent years, mainly for data science and machine learning projects. The simplicity and ease of use of Conda makes it easy to start up quickly and install packages without polluting your local environment, but it lacks in some areas, specifically when it comes to production. \n",
    "\n",
    "Conda environments are often bloated with unnecessary dependencies, making them larger than needed, and they are reliant your local machine's configuration. \n",
    "\n",
    "### Portability for production\n",
    "When it comes to production, Docker is king because of its portability and reproducibility at scale. It is easy to replicate your exact environment at scale and most cloud providers have built a lot of their infrastructure around Docker systems.\n",
    "\n",
    "### VS Code devcontainer\n",
    "VS Code makes [developing inside a Container](https://code.visualstudio.com/docs/remote/containers) easy, allowing you to create a Docker container and open any folder inside (or mounted into) the container. The benefits include a highly portable and reproducible development environment and the Docker container can often be used for CI/CD and production with minor modifications. This speeds up the process of taking a project from development into production with CI/CD.\n",
    "\n",
    "### Easy experimentation\n",
    "Say you need to test a piece of code on a new OS or Architecture, simply head over to [Docker Hub](https://hub.docker.com/search?q=), select your image of choice (alpine, busybox, python, postgres, redis, traefik, ubuntu, node, golang, etc!), pick the relevant version (tag) and pull away. You can event spin up 'n quick devcontainer using the image if you like. Then, go crazy inside your container by installing stuff, messing around with settings, digging through the filesystem, etc. And nothing touches your local setup.\n",
    "\n",
    "When you're done, simply throw away the image (or start again if you broke something!). Alternatively, if you want to keep working with an image you can write up your exact process in a Dockerfile and add it to your stack. Simple as that, all very convenient. \n",
    "\n",
    "### CI/CD pipelines\n",
    "When it comes to CI/CD, it will probably also happen on a runner that spins up a Docker container. You can install obviously still install conda/venv/etc. and build your environment inside docker, or alternatively you can develop inside a container to start with and completely remove the need for a virtual environment. Using Docker makes CI/CD development easier and quicker because you can figure out most process locally first before committing to a CI/CD pipeline.\n",
    "\n"
   ]
  },
  {
   "cell_type": "markdown",
   "metadata": {},
   "source": [
    "# Python project template\n",
    "The template can be found on my github page here: https://github.com/jacoverster/python-project-template\n",
    "\n",
    "### Main features\n",
    "\n",
    "The main features of the template are:\n",
    "- [VS Code .devcontainer](https://code.visualstudio.com/docs/remote/containers) configuration that installs commonly used VS Code extensions.\n",
    "- [Dockerfile](https://docs.docker.com/engine/reference/builder/) with Python and the local package with DEV dependencies installed.\n",
    "- [pyproject.toml package configuration](https://setuptools.pypa.io/en/latest/userguide/quickstart.html) with optional DEV and TEST dependency lists.\n",
    "- [Pytest](https://github.com/boxed/pytest-readme) template setup with code [coverage](https://coverage.readthedocs.io/en/6.4.2/) reporting.\n",
    "- [Pre-commit hooks](https://pre-commit.com) configuration with excellent hooks for better code quality and safety.\n",
    "- [Black](https://github.com/psf/black) code formatting.\n",
    "- [GitHub Actions](https://docs.github.com/en/actions) configuration for automated testing and building on GitHub.\n",
    "- [GitLab CI/CD](https://docs.gitlab.com/ee/ci/index.html) configuration for automated testing and building on GitLub.\n",
    "- README template from [makeareadme](https://www.makeareadme.com/).\n",
    "- LICENSE file.\n",
    "\n",
    "### Updates\n",
    "\n",
    "I plan to update the template as I go to keep it up to date with my latest setup as far as possible. It also helps to have a static reference for my projects, every project has it's own requirements but I always start from some baseline.\n"
   ]
  },
  {
   "cell_type": "markdown",
   "metadata": {},
   "source": [
    "# Conclusion\n",
    "Feel free to use the template and modify it to suit your own needs.\n",
    "\n",
    "Happy coding!"
   ]
  }
 ],
 "metadata": {
  "kernelspec": {
   "display_name": "Python 3.9.2 64-bit",
   "language": "python",
   "name": "python3"
  },
  "language_info": {
   "name": "python",
   "version": "3.9.2"
  },
  "orig_nbformat": 4,
  "vscode": {
   "interpreter": {
    "hash": "31f2aee4e71d21fbe5cf8b01ff0e069b9275f58929596ceb00d14d90e3e16cd6"
   }
  }
 },
 "nbformat": 4,
 "nbformat_minor": 2
}
