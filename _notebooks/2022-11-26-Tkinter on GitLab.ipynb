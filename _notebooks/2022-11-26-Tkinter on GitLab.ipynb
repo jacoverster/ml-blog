{
 "cells": [
  {
   "cell_type": "markdown",
   "metadata": {},
   "source": [
    "# Build a Python Windows app with your smartphone\n",
    "> \"Build a Python Windows UI application using a Gitlab Windows runner.\"\n",
    "\n",
    "- toc: false\n",
    "- branch: master\n",
    "- badges: true\n",
    "- comments: true\n",
    "- author: Jaco Verster\n",
    "- categories: [python, tkinter, CI/CD]"
   ]
  },
  {
   "cell_type": "markdown",
   "metadata": {},
   "source": [
    "Part of my work involves building a Windows apps that run powerful Python scripts for my users. I typically use [tkinter](https://docs.python.org/3/library/tkinter.html) to build the UI and I've been playing with the idea to automate the compilation step by using a CI/CD runner. I recently found out that you can spin up a Windows shared runner on Gitlab for free so I just had to test it out. Now the catch was that I wasn't close to my computer at the time but I had some time to kill. I had my phone with me so I thought let me see if I can build the whole thing using only my smartphone. I just want to build a very simple test app, so I can copy-paste code from the internet - it should be doable without my IDE right?\n",
    "\n",
    "So I set  out to build this using only my smartphone!"
   ]
  },
  {
   "cell_type": "markdown",
   "metadata": {},
   "source": [
    "I created a new project on Gitlab and created the `.gitlab-ci.yml` file first. I copied the code from [this](https://stackoverflow.com/a/67414819/16190875) stackoverflow answer and modified it. I first tried editing it using the Gitlab web editor but that proved impossible - the web editor is not optimised for mobile devices so it was impossible to move around. I decided to us a document editor on my smartphone (Google Docs) instead. I copied the code there, made my changes and then copied it to Gitlab using the Gitlab web editor.\n",
    "\n",
    "The final `.gitlab-ci.yml` code spins up the shared Windows runner, installs Python 3.9 using choco, then installs pyinstaller and builds the app and saves the output dist/app.exe to a build artifact that can later be downloaded."
   ]
  },
  {
   "cell_type": "code",
   "execution_count": null,
   "metadata": {},
   "outputs": [],
   "source": [
    "# .gitlab-ci.yml\n",
    "\n",
    ".shared_windows_runners:\n",
    "   tags:\n",
    "   - shared-windows\n",
    "   - windows\n",
    "   - windows-1809\n",
    "\n",
    " build:\n",
    "   extends:\n",
    "   - .shared_windows_runners\n",
    "   stage: build\n",
    "   script:\n",
    "   - choco install python --version=3.9.4 -y -f\n",
    "   - \"C:\\\\Python39\\\\python.exe -m pip install pyinstaller\"\n",
    "   - \"C:\\\\Python39\\\\Scripts\\\\pyinstaller.exe app.py -F\"\n",
    "   artifacts:\n",
    "     paths:\n",
    "       - dist/app.exe\n"
   ]
  },
  {
   "cell_type": "markdown",
   "metadata": {},
   "source": [
    "Next I created `app.py` for the Python source code. I simply copied some code from this Real Python Tutorial on [Python GUI Programming With Tkinter](https://realpython.com/python-gui-tkinter/#building-a-text-editor-example-app) without modifying it. It is a text editor application that can create, open, edit, and save text files, a simple example to test the idea. The code looks like this:"
   ]
  },
  {
   "cell_type": "code",
   "execution_count": null,
   "metadata": {},
   "outputs": [],
   "source": [
    "# app.py\n",
    "\n",
    "import tkinter as tk\n",
    "from tkinter.filedialog import askopenfilename, asksaveasfilename\n",
    "\n",
    "def open_file():\n",
    "    \"\"\"Open a file for editing.\"\"\"\n",
    "    filepath = askopenfilename(\n",
    "        filetypes=[(\"Text Files\", \"*.txt\"), (\"All Files\", \"*.*\")]\n",
    "    )\n",
    "    if not filepath:\n",
    "        return\n",
    "    txt_edit.delete(\"1.0\", tk.END)\n",
    "    with open(filepath, mode=\"r\", encoding=\"utf-8\") as input_file:\n",
    "        text = input_file.read()\n",
    "        txt_edit.insert(tk.END, text)\n",
    "    window.title(f\"Simple Text Editor - {filepath}\")\n",
    "\n",
    "def save_file():\n",
    "    \"\"\"Save the current file as a new file.\"\"\"\n",
    "    filepath = asksaveasfilename(\n",
    "        defaultextension=\".txt\",\n",
    "        filetypes=[(\"Text Files\", \"*.txt\"), (\"All Files\", \"*.*\")],\n",
    "    )\n",
    "    if not filepath:\n",
    "        return\n",
    "    with open(filepath, mode=\"w\", encoding=\"utf-8\") as output_file:\n",
    "        text = txt_edit.get(\"1.0\", tk.END)\n",
    "        output_file.write(text)\n",
    "    window.title(f\"Simple Text Editor - {filepath}\")\n",
    "\n",
    "window = tk.Tk()\n",
    "window.title(\"Simple Text Editor\")\n",
    "\n",
    "window.rowconfigure(0, minsize=800, weight=1)\n",
    "window.columnconfigure(1, minsize=800, weight=1)\n",
    "\n",
    "txt_edit = tk.Text(window)\n",
    "frm_buttons = tk.Frame(window, relief=tk.RAISED, bd=2)\n",
    "btn_open = tk.Button(frm_buttons, text=\"Open\", command=open_file)\n",
    "btn_save = tk.Button(frm_buttons, text=\"Save As...\", command=save_file)\n",
    "\n",
    "btn_open.grid(row=0, column=0, sticky=\"ew\", padx=5, pady=5)\n",
    "btn_save.grid(row=1, column=0, sticky=\"ew\", padx=5)\n",
    "\n",
    "frm_buttons.grid(row=0, column=0, sticky=\"ns\")\n",
    "txt_edit.grid(row=0, column=1, sticky=\"nsew\")\n",
    "\n",
    "window.mainloop()"
   ]
  },
  {
   "cell_type": "markdown",
   "metadata": {},
   "source": [
    "After I committed the changes to Gitlab the runner spun up and built the app and created a downloadable app.exe artifact. I later downloaded the app and to test it on my Windows machine and it ran without any issues. I showed that it is possible to build a Windows Python app without a Windows computer using a free Gitlab Windows runner (and a smartphone in this case!). Next steps will be to try and automate app deployment using the built artifact.\n",
    "\n",
    "Follow the links to find out more about [Windows Development](https://docs.gitlab.com/ee/development/windows.html) using Gitlab or look at the [pre-installed software](https://gitlab.com/gitlab-org/ci-cd/shared-runners/images/gcp/windows-containers/blob/main/cookbooks/preinstalled-software/README.md) on their Windows runners. "
   ]
  }
 ],
 "metadata": {
  "kernelspec": {
   "display_name": "Python 3.8.12 ('ml')",
   "language": "python",
   "name": "python3"
  },
  "language_info": {
   "codemirror_mode": {
    "name": "ipython",
    "version": 3
   },
   "file_extension": ".py",
   "mimetype": "text/x-python",
   "name": "python",
   "nbconvert_exporter": "python",
   "pygments_lexer": "ipython3",
   "version": "3.8.12"
  },
  "orig_nbformat": 4,
  "vscode": {
   "interpreter": {
    "hash": "2cb78e02b6e66c5e4f67839fd4978e58d3144e1bb76b1187588b6a599b727db7"
   }
  }
 },
 "nbformat": 4,
 "nbformat_minor": 2
}
