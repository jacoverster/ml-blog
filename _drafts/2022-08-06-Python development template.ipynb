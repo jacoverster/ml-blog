{
 "cells": [
  {
   "cell_type": "markdown",
   "metadata": {},
   "source": [
    "# A Python development template for 2022\n",
    "> \"I wish I had this when I started coding! A complete template for containerized Python development with packaging, CI/CD, code formatting, testing and more.\"\n",
    "\n",
    "- toc: false\n",
    "- branch: master\n",
    "- badges: true\n",
    "- comments: true\n",
    "- author: Jaco Verster\n",
    "- categories: [Python, Docker, devcontainer]"
   ]
  },
  {
   "cell_type": "markdown",
   "metadata": {},
   "source": [
    "# Python development in 2022\n",
    "\n",
    "I recently came across a great article by Mathspp called [How to create a Python package in 2022](https://mathspp.com/blog/how-to-create-a-python-package-in-2022). It provides a comprehensive guide to creating a Python package and it includes some nice extras like dependency management with [Poetry](https://python-poetry.org/), GitHub repository and CI/CD setup, pre-commit hooks, testing with [pytest](https://docs.pytest.org/en/7.1.x/) and automation using [tox](https://tox.wiki/en/latest/), etc.\n",
    "\n",
    "A lot of the tools that Mathspp uses aligns with my own current setup, but I prefer to use a Dockerized development environment with a standard pip install pipeline.\n",
    "\n",
    "Inspired by the post, I decided to document my own setup into a development template."
   ]
  },
  {
   "cell_type": "markdown",
   "metadata": {},
   "source": [
    "# Dependency management using Docker\n",
    "\n",
    "I've mainly used [Miniconda](https://docs.conda.io/en/latest/miniconda.html), for package, dependency and environment management in recent years for data science and machine learning projects. The simplicity and ease of use of conda makes it easy start up quickly and install packages without polluting your local environment, but it lacks in some areas, specifically when it comes to production. \n",
    "\n",
    "Conda environments are often bloated with unnecessary dependencies, making them larger than needed, and they are reliant your local machine's configuration. Docker is therefore preferred over Conda for production because of its portability and reproducibility at scale.\n",
    "\n",
    "As an example, if your project includes any form of basic CI/CD, it will probably happen inside a Docker container. You can install Miniconda and build your environment inside docker, or alternatively you can develop inside a container to start with and completely remove the need for a virtual environment.\n",
    "\n",
    "VS Code makes [developing inside a Container](https://code.visualstudio.com/docs/remote/containers) easy, allowing you to create a Docker container and open any folder inside (or mounted into) the container. The benefits include a highly portable and reproducible development environment and the Docker container can often be used for CI/CD and production with minor modifications. This speeds up the process of taking a project from development into production with CI/CD.\n",
    "\n",
    "\n",
    "For more information on pip, conda and Poetry see:\n",
    "- [An in-depth comparison of Pip vs. Conda](https://pythonspeed.com/articles/conda-vs-pip/)\n",
    "- [Why you should use Poetry instead of Pip or Conda for Python Projects](https://blogs.sap.com/2022/05/08/why-you-should-use-poetry-instead-of-pip-or-conda-for-python-projects/)"
   ]
  },
  {
   "cell_type": "code",
   "execution_count": null,
   "metadata": {},
   "outputs": [],
   "source": []
  }
 ],
 "metadata": {
  "kernelspec": {
   "display_name": "Python 3.9.2 64-bit",
   "language": "python",
   "name": "python3"
  },
  "language_info": {
   "name": "python",
   "version": "3.9.2"
  },
  "orig_nbformat": 4,
  "vscode": {
   "interpreter": {
    "hash": "31f2aee4e71d21fbe5cf8b01ff0e069b9275f58929596ceb00d14d90e3e16cd6"
   }
  }
 },
 "nbformat": 4,
 "nbformat_minor": 2
}
